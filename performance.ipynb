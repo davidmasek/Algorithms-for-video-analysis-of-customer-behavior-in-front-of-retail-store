{
 "metadata": {
  "language_info": {
   "codemirror_mode": {
    "name": "ipython",
    "version": 3
   },
   "file_extension": ".py",
   "mimetype": "text/x-python",
   "name": "python",
   "nbconvert_exporter": "python",
   "pygments_lexer": "ipython3",
   "version": "3.6.9"
  },
  "orig_nbformat": 2,
  "kernelspec": {
   "name": "python3",
   "display_name": "Python 3",
   "language": "python"
  },
  "metadata": {
   "interpreter": {
    "hash": "31f2aee4e71d21fbe5cf8b01ff0e069b9275f58929596ceb00d14d90e3e16cd6"
   }
  }
 },
 "nbformat": 4,
 "nbformat_minor": 2,
 "cells": [
  {
   "cell_type": "code",
   "execution_count": 1,
   "metadata": {},
   "outputs": [],
   "source": [
    "%load_ext autoreload\n",
    "%autoreload 2"
   ]
  },
  {
   "cell_type": "code",
   "execution_count": 2,
   "metadata": {},
   "outputs": [],
   "source": [
    "from pathlib import Path\n",
    "\n",
    "import numpy as np\n",
    "import cv2\n",
    "import pandas as pd"
   ]
  },
  {
   "cell_type": "code",
   "execution_count": 3,
   "metadata": {},
   "outputs": [],
   "source": [
    "models_base_dir = Path('/home/improlab/Desktop/FastMOT/fastmot/models')\n",
    "assert models_base_dir.exists(), 'Invalid path'"
   ]
  },
  {
   "cell_type": "code",
   "execution_count": 4,
   "metadata": {},
   "outputs": [],
   "source": [
    "googlenet = 'GoogLeNet', models_base_dir / 'googlenet' / 'age_googlenet.onnx'\n",
    "# batch size 1\n",
    "ssrnet_1 = 'SSRNet_1', Path('assets') / 'ssrnet_bs1.onnx'\n",
    "# batch size 32\n",
    "ssrnet_32 = 'SSRNet_32', Path('assets') / 'ssrnet_bs32.onnx'\n",
    "\n",
    "osnet_x025 = 'osnet_x0.25', models_base_dir / 'osnet' / 'osnet_x0_25_msmt17.onnx'\n",
    "osnet_ain_10 = 'osnet_ain_x1.0', models_base_dir / 'osnet' / 'osnet_ain_x1_0_msmt17.onnx'\n",
    "# Runing YOLOv4 without optimization might be too much for Jetson\n",
    "# yolov4 = 'YOLOv4', models_base_dir / 'yolo' / 'yolov4_crowdhuman.onnx'"
   ]
  },
  {
   "cell_type": "code",
   "execution_count": 5,
   "metadata": {},
   "outputs": [],
   "source": [
    "# onnx file not available\n",
    "# peoplenet = models_base_dir / 'peoplenet' / 'resnet34_peoplenet_pruned.etlt'"
   ]
  },
  {
   "cell_type": "code",
   "execution_count": 6,
   "metadata": {},
   "outputs": [],
   "source": [
    "from onnx_inference import Model\n",
    "from trt_inference import TRTModel, TRTInferenceBackend\n",
    "from timing import timethat"
   ]
  },
  {
   "cell_type": "code",
   "execution_count": 7,
   "metadata": {},
   "outputs": [],
   "source": [
    "try:\n",
    "    output_dir = Path(__file__) / 'assets'\n",
    "except NameError:\n",
    "    output_dir = Path('.') / 'assets'"
   ]
  },
  {
   "cell_type": "code",
   "execution_count": 8,
   "metadata": {},
   "outputs": [],
   "source": [
    "onnx_models = [ssrnet_1, ssrnet_32, googlenet, osnet_x025, osnet_ain_10]"
   ]
  },
  {
   "cell_type": "code",
   "execution_count": 9,
   "metadata": {},
   "outputs": [],
   "source": [
    "def time_inference(model, input):\n",
    "    stmt = 'model.run(input)'\n",
    "    # run stmt as setup to warmup\n",
    "    return timethat(stmt=stmt, setup=stmt, globals={'model': model, 'input': input})"
   ]
  },
  {
   "cell_type": "code",
   "execution_count": 10,
   "metadata": {},
   "outputs": [
    {
     "output_type": "stream",
     "name": "stdout",
     "text": [
      "Evaluating SSRNet...\n",
      "CPU: 3.7 ms ± 123 µs per loop (mean ± std. dev. of 7 runs, 100 loops each)\n",
      "GPU: 4.02 ms ± 62 µs per loop (mean ± std. dev. of 7 runs, 100 loops each)\n",
      "TRT: 1.4 ms ± 58.7 µs per loop (mean ± std. dev. of 7 runs, 1000 loops each)\n",
      "--------------------\n",
      "Evaluating SSRNet...\n",
      "CPU: 106 ms ± 2.4 ms per loop (mean ± std. dev. of 7 runs, 10 loops each)\n",
      "GPU: 8.85 ms ± 170 µs per loop (mean ± std. dev. of 7 runs, 100 loops each)\n",
      "TRT: 3.89 ms ± 17.2 µs per loop (mean ± std. dev. of 7 runs, 100 loops each)\n",
      "--------------------\n",
      "Evaluating GoogLeNet...\n",
      "CPU: 144 ms ± 1 ms per loop (mean ± std. dev. of 7 runs, 10 loops each)\n",
      "GPU: 11.9 ms ± 53.1 µs per loop (mean ± std. dev. of 7 runs, 100 loops each)\n",
      "TRT: 3.21 ms ± 15.8 µs per loop (mean ± std. dev. of 7 runs, 100 loops each)\n",
      "--------------------\n",
      "Evaluating osnet_x0.25...\n",
      "CPU: 356 ms ± 6.99 ms per loop (mean ± std. dev. of 7 runs, 10 loops each)\n",
      "GPU: 36.1 ms ± 224 µs per loop (mean ± std. dev. of 7 runs, 10 loops each)\n",
      "TRT: 12.4 ms ± 22.8 µs per loop (mean ± std. dev. of 7 runs, 100 loops each)\n",
      "--------------------\n",
      "Evaluating osnet_ain_x1.0...\n",
      "CPU: 2.11 s ± 17.3 ms per loop (mean ± std. dev. of 7 runs, 10 loops each)\n",
      "GPU: 155 ms ± 1.19 ms per loop (mean ± std. dev. of 7 runs, 10 loops each)\n",
      "TRT: 53.5 ms ± 219 µs per loop (mean ± std. dev. of 7 runs, 10 loops each)\n",
      "--------------------\n",
      "Completed evaluation.\n"
     ]
    }
   ],
   "source": [
    "results = []\n",
    "\n",
    "for name, path in onnx_models:\n",
    "    print(f'Evaluating {name}...')\n",
    "    model = Model(path)\n",
    "\n",
    "    input = model.get_sample_input()\n",
    "    model.use_cpu()\n",
    "    t_cpu = time_inference(model, input)\n",
    "    print(f'CPU: {t_cpu}')\n",
    "    model.use_gpu()\n",
    "    t_gpu = time_inference(model, input)\n",
    "    print(f'GPU: {t_gpu}')\n",
    "\n",
    "    engine_name = path.with_suffix('.trt').name\n",
    "    engine_path = output_dir / engine_name\n",
    "    batch_size = model.input_shape[0]\n",
    "    trt_model = TRTModel(path, engine_path, model.input_shape[1:])\n",
    "    backend = TRTInferenceBackend(trt_model, batch_size)\n",
    "    t_trt = time_inference(backend, input)\n",
    "    print(f'TRT: {t_trt}')\n",
    "\n",
    "    results.append({\n",
    "        'model': name,\n",
    "        'cpu_mean': t_cpu.average,\n",
    "        'cpu_std': t_cpu.stdev,\n",
    "        'gpu_mean': t_gpu.average,\n",
    "        'gpu_std': t_gpu.stdev,\n",
    "        'trt_mean': t_trt.average,\n",
    "        'trt_std': t_trt.stdev,\n",
    "    })\n",
    "\n",
    "    print('-'*20)\n",
    "\n",
    "print('Completed evaluation.')"
   ]
  },
  {
   "cell_type": "code",
   "execution_count": 11,
   "metadata": {},
   "outputs": [
    {
     "output_type": "display_data",
     "data": {
      "text/plain": "            model  cpu_mean   cpu_std  gpu_mean   gpu_std  trt_mean   trt_std\n0          SSRNet  0.003703  0.000123  0.004015  0.000062  0.001403  0.000059\n1          SSRNet  0.106288  0.002399  0.008851  0.000170  0.003887  0.000017\n2       GoogLeNet  0.143667  0.001005  0.011867  0.000053  0.003210  0.000016\n3     osnet_x0.25  0.356449  0.006992  0.036102  0.000224  0.012372  0.000023\n4  osnet_ain_x1.0  2.113494  0.017287  0.155038  0.001188  0.053470  0.000219",
      "text/html": "<div>\n<style scoped>\n    .dataframe tbody tr th:only-of-type {\n        vertical-align: middle;\n    }\n\n    .dataframe tbody tr th {\n        vertical-align: top;\n    }\n\n    .dataframe thead th {\n        text-align: right;\n    }\n</style>\n<table border=\"1\" class=\"dataframe\">\n  <thead>\n    <tr style=\"text-align: right;\">\n      <th></th>\n      <th>model</th>\n      <th>cpu_mean</th>\n      <th>cpu_std</th>\n      <th>gpu_mean</th>\n      <th>gpu_std</th>\n      <th>trt_mean</th>\n      <th>trt_std</th>\n    </tr>\n  </thead>\n  <tbody>\n    <tr>\n      <th>0</th>\n      <td>SSRNet</td>\n      <td>0.003703</td>\n      <td>0.000123</td>\n      <td>0.004015</td>\n      <td>0.000062</td>\n      <td>0.001403</td>\n      <td>0.000059</td>\n    </tr>\n    <tr>\n      <th>1</th>\n      <td>SSRNet</td>\n      <td>0.106288</td>\n      <td>0.002399</td>\n      <td>0.008851</td>\n      <td>0.000170</td>\n      <td>0.003887</td>\n      <td>0.000017</td>\n    </tr>\n    <tr>\n      <th>2</th>\n      <td>GoogLeNet</td>\n      <td>0.143667</td>\n      <td>0.001005</td>\n      <td>0.011867</td>\n      <td>0.000053</td>\n      <td>0.003210</td>\n      <td>0.000016</td>\n    </tr>\n    <tr>\n      <th>3</th>\n      <td>osnet_x0.25</td>\n      <td>0.356449</td>\n      <td>0.006992</td>\n      <td>0.036102</td>\n      <td>0.000224</td>\n      <td>0.012372</td>\n      <td>0.000023</td>\n    </tr>\n    <tr>\n      <th>4</th>\n      <td>osnet_ain_x1.0</td>\n      <td>2.113494</td>\n      <td>0.017287</td>\n      <td>0.155038</td>\n      <td>0.001188</td>\n      <td>0.053470</td>\n      <td>0.000219</td>\n    </tr>\n  </tbody>\n</table>\n</div>"
     },
     "metadata": {}
    }
   ],
   "source": [
    "df = pd.DataFrame(results)\n",
    "display(df)"
   ]
  },
  {
   "cell_type": "code",
   "execution_count": 12,
   "metadata": {},
   "outputs": [],
   "source": [
    "# df.to_csv('performance_results.csv')"
   ]
  }
 ]
}