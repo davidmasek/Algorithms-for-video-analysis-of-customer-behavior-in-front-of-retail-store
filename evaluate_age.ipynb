{
 "metadata": {
  "language_info": {
   "codemirror_mode": {
    "name": "ipython",
    "version": 3
   },
   "file_extension": ".py",
   "mimetype": "text/x-python",
   "name": "python",
   "nbconvert_exporter": "python",
   "pygments_lexer": "ipython3",
   "version": "3.6.9"
  },
  "orig_nbformat": 2,
  "kernelspec": {
   "name": "venv",
   "display_name": "venv",
   "language": "python"
  }
 },
 "nbformat": 4,
 "nbformat_minor": 2,
 "cells": [
  {
   "cell_type": "code",
   "execution_count": 1,
   "metadata": {},
   "outputs": [],
   "source": [
    "%load_ext autoreload\n",
    "%autoreload 2"
   ]
  },
  {
   "cell_type": "code",
   "execution_count": 16,
   "metadata": {},
   "outputs": [],
   "source": [
    "from pathlib import Path\n",
    "\n",
    "import torchvision\n",
    "from torchvision import transforms as T\n",
    "import torch\n",
    "# torchvision and cv2 seem to clash (on Jetson)\n",
    "# import cv2\n",
    "\n",
    "import numpy as np\n",
    "import pandas as pd\n",
    "from pathlib import Path\n",
    "from PIL import Image\n",
    "from tqdm import tqdm"
   ]
  },
  {
   "cell_type": "code",
   "execution_count": 3,
   "metadata": {},
   "outputs": [],
   "source": [
    "from onnx_inference import Model\n",
    "from trt_inference import TRTModel, TRTInferenceBackend"
   ]
  },
  {
   "cell_type": "code",
   "execution_count": 4,
   "metadata": {},
   "outputs": [],
   "source": [
    "# ssrnet = 'SSRNet_32', Path('assets') / 'ssrnet_dynamic_simplified.onnx'\n",
    "ssrnet = 'SSRNet_32', Path('assets') / 'ssrnet_bs1.onnx'"
   ]
  },
  {
   "cell_type": "code",
   "execution_count": 5,
   "metadata": {},
   "outputs": [],
   "source": [
    "transform = T.Compose([\n",
    "        T.Resize((64, 64)),\n",
    "        T.ToTensor(),\n",
    "        T.Normalize([0.485, 0.456, 0.406], [0.229, 0.224, 0.225])])"
   ]
  },
  {
   "cell_type": "code",
   "execution_count": 6,
   "metadata": {},
   "outputs": [],
   "source": [
    "dir_path = Path('assets') / 'megaage' / 'test'"
   ]
  },
  {
   "source": [
    "# (Original) ONNX Model Evaluation"
   ],
   "cell_type": "markdown",
   "metadata": {}
  },
  {
   "cell_type": "code",
   "execution_count": 7,
   "metadata": {},
   "outputs": [],
   "source": [
    "model = Model(ssrnet[1])\n",
    "model.use_gpu()"
   ]
  },
  {
   "cell_type": "code",
   "execution_count": 8,
   "metadata": {},
   "outputs": [
    {
     "output_type": "stream",
     "name": "stderr",
     "text": [
      "100%|██████████| 8530/8530 [01:18<00:00, 108.83it/s]\n"
     ]
    }
   ],
   "source": [
    "predictions = []\n",
    "for img_path in tqdm(sorted(dir_path.glob('*.jpg'))):\n",
    "    img = Image.open(img_path)\n",
    "    im = transform(img)\n",
    "    imgs = torch.stack([im])\n",
    "    imgs_np = imgs.numpy()\n",
    "    preds = model.sess.run([model.output_name], {model.input_name: imgs_np})\n",
    "    predictions.extend(preds)"
   ]
  },
  {
   "cell_type": "code",
   "execution_count": 9,
   "metadata": {},
   "outputs": [],
   "source": [
    "y_onnx = np.stack(predictions).ravel()"
   ]
  },
  {
   "cell_type": "code",
   "execution_count": 10,
   "metadata": {},
   "outputs": [],
   "source": [
    "gt = np.loadtxt(dir_path.parent / 'list' / 'test_age.txt')"
   ]
  },
  {
   "cell_type": "code",
   "execution_count": 11,
   "metadata": {},
   "outputs": [],
   "source": [
    "assert gt.shape == y_onnx.shape"
   ]
  },
  {
   "cell_type": "code",
   "execution_count": 12,
   "metadata": {},
   "outputs": [],
   "source": [
    "MAE_onnx = np.sum(np.abs(y_onnx - gt))/len(gt)"
   ]
  },
  {
   "cell_type": "code",
   "execution_count": 13,
   "metadata": {},
   "outputs": [
    {
     "output_type": "stream",
     "name": "stdout",
     "text": [
      "Mean Absolute Error: 12.799150404868623\n"
     ]
    }
   ],
   "source": [
    "print('Mean Absolute Error:', MAE_onnx)"
   ]
  },
  {
   "source": [
    "# (Optimized) TensorRT Model Evaluation"
   ],
   "cell_type": "markdown",
   "metadata": {}
  },
  {
   "cell_type": "code",
   "execution_count": 14,
   "metadata": {},
   "outputs": [],
   "source": [
    "transform = T.Compose([\n",
    "        T.Resize((64, 64)),\n",
    "        T.ToTensor(),\n",
    "        T.Normalize([0.485, 0.456, 0.406], [0.229, 0.224, 0.225])])"
   ]
  },
  {
   "cell_type": "code",
   "execution_count": 18,
   "metadata": {},
   "outputs": [],
   "source": [
    "engine_path = Path('assets') / 'ssrnet_bs1.trt'\n",
    "batch_size = 1\n",
    "trt_model = TRTModel(ssrnet[1], engine_path, model.input_shape[1:])\n",
    "backend = TRTInferenceBackend(trt_model, batch_size)"
   ]
  },
  {
   "cell_type": "code",
   "execution_count": 19,
   "metadata": {},
   "outputs": [
    {
     "output_type": "stream",
     "name": "stderr",
     "text": [
      "100%|██████████| 8530/8530 [01:44<00:00, 81.79it/s] \n"
     ]
    }
   ],
   "source": [
    "predictions = []\n",
    "for img_path in tqdm(sorted(dir_path.glob('*.jpg'))):\n",
    "    img = Image.open(img_path)\n",
    "    im = transform(img)\n",
    "    imgs = torch.stack([im])\n",
    "    imgs_np = imgs.numpy()\n",
    "    preds = backend.run(imgs_np)\n",
    "    predictions.extend(preds)"
   ]
  },
  {
   "cell_type": "code",
   "execution_count": 20,
   "metadata": {},
   "outputs": [],
   "source": [
    "y_trt = np.stack(predictions).ravel()"
   ]
  },
  {
   "cell_type": "code",
   "execution_count": 21,
   "metadata": {},
   "outputs": [],
   "source": [
    "gt = np.loadtxt(dir_path.parent / 'list' / 'test_age.txt')"
   ]
  },
  {
   "cell_type": "code",
   "execution_count": 22,
   "metadata": {},
   "outputs": [],
   "source": [
    "assert gt.shape == y_trt.shape"
   ]
  },
  {
   "cell_type": "code",
   "execution_count": 23,
   "metadata": {},
   "outputs": [],
   "source": [
    "MAE_trt = np.sum(np.abs(y_trt - gt))/len(gt)"
   ]
  },
  {
   "cell_type": "code",
   "execution_count": 24,
   "metadata": {},
   "outputs": [
    {
     "output_type": "stream",
     "name": "stdout",
     "text": [
      "Mean Absolute Error: 14.412206657159231\n"
     ]
    }
   ],
   "source": [
    "print('Mean Absolute Error:', MAE_trt)"
   ]
  },
  {
   "source": [
    "# Results"
   ],
   "cell_type": "markdown",
   "metadata": {}
  },
  {
   "cell_type": "code",
   "execution_count": 28,
   "metadata": {},
   "outputs": [
    {
     "output_type": "stream",
     "name": "stdout",
     "text": [
      "MAE ONNX: 12.799150404868623\nMAE_TensorRT: 14.412206657159231\nError increase: 12.6%\n"
     ]
    }
   ],
   "source": [
    "print('MAE ONNX:', MAE_onnx)\n",
    "print('MAE_TensorRT:', MAE_trt)\n",
    "print(f'Error increase: {MAE_trt / MAE_onnx * 100 - 100:.1f}%')\n"
   ]
  },
  {
   "cell_type": "code",
   "execution_count": 25,
   "metadata": {},
   "outputs": [],
   "source": [
    "MAE_between = np.sum(np.abs(y_trt - y_onnx))/len(gt)"
   ]
  },
  {
   "cell_type": "code",
   "execution_count": 29,
   "metadata": {},
   "outputs": [
    {
     "output_type": "execute_result",
     "data": {
      "text/plain": [
       "23.883264947245017"
      ]
     },
     "metadata": {},
     "execution_count": 29
    }
   ],
   "source": [
    "MAE_between"
   ]
  }
 ]
}