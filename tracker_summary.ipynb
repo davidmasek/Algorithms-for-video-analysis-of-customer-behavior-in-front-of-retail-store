{
 "metadata": {
  "language_info": {
   "codemirror_mode": {
    "name": "ipython",
    "version": 3
   },
   "file_extension": ".py",
   "mimetype": "text/x-python",
   "name": "python",
   "nbconvert_exporter": "python",
   "pygments_lexer": "ipython3",
   "version": "3.6.9"
  },
  "orig_nbformat": 2,
  "kernelspec": {
   "name": "pythonjvsc74a57bd0d25519fad9704221a4606936b2b3284b65e3522058a730e3c4b2685d99aaf2c8",
   "display_name": "Python 3.6.9  ('venv': venv)"
  },
  "metadata": {
   "interpreter": {
    "hash": "d25519fad9704221a4606936b2b3284b65e3522058a730e3c4b2685d99aaf2c8"
   }
  }
 },
 "nbformat": 4,
 "nbformat_minor": 2,
 "cells": [
  {
   "cell_type": "code",
   "execution_count": 104,
   "metadata": {},
   "outputs": [],
   "source": [
    "from pathlib import Path\n",
    "\n",
    "import pandas as pd\n",
    "import numpy as np"
   ]
  },
  {
   "cell_type": "code",
   "execution_count": 105,
   "metadata": {},
   "outputs": [],
   "source": [
    "base = Path('tracker_eval')"
   ]
  },
  {
   "cell_type": "code",
   "execution_count": 106,
   "metadata": {},
   "outputs": [],
   "source": [
    "names = ['PeopleNet', 'YOLO', 'SSD']\n",
    "paths = ['peoplenet', 'yolo', 'ssd_inceptionv2']"
   ]
  },
  {
   "cell_type": "code",
   "execution_count": 107,
   "metadata": {},
   "outputs": [],
   "source": [
    "results = {}\n",
    "for n, p in zip(names, paths):\n",
    "    csv = base / f'test_{p}' / 'summary.csv'\n",
    "    # performance is evaluated separately to exclude metrics calculation time\n",
    "    csv_fps = base / f'test_{p}_fps' / 'summary.csv'\n",
    "    df = pd.read_csv(csv)\n",
    "    df_fps = pd.read_csv(csv_fps)\n",
    "\n",
    "    df['FPS'] = df_fps['FPS']\n",
    "    tmp = df.drop(labels=2)['FPS']\n",
    "    avg = np.average(tmp, weights=df.drop(labels=2).num_frames)\n",
    "    df.loc[2, 'FPS'] = avg\n",
    "\n",
    "    df['Switch Ratio'] = df['num_switches'] / df['num_objects']\n",
    "\n",
    "    results[n] = df"
   ]
  },
  {
   "cell_type": "code",
   "execution_count": 108,
   "metadata": {},
   "outputs": [
    {
     "output_type": "execute_result",
     "data": {
      "text/plain": [
       "               input  num_frames      mota      motp  num_switches  \\\n",
       "PeopleNet 0  04-09-1  545.000000  0.837134  0.841188      7.000000   \n",
       "          1  04-09-3  746.000000  0.845960  0.823072     21.000000   \n",
       "          2  avg (*)  661.147173  0.842234  0.830720     15.089853   \n",
       "YOLO      0  04-09-1  545.000000  0.912052  0.924237      9.000000   \n",
       "          1  04-09-3  746.000000  0.906566  0.931936     20.000000   \n",
       "          2  avg (*)  661.147173  0.908882  0.928686     15.356313   \n",
       "SSD       0  04-09-1  545.000000  0.653637  0.780165     28.000000   \n",
       "          1  04-09-3  746.000000  0.441077  0.688373     55.000000   \n",
       "          2  avg (*)  661.147173  0.530810  0.727123     43.601859   \n",
       "\n",
       "             num_false_positives  num_misses  num_objects  num_unique_objects  \\\n",
       "PeopleNet 0            16.000000  127.000000   921.000000            9.000000   \n",
       "          1             4.000000  341.000000  2376.000000           16.000000   \n",
       "          2             9.065840  250.659179  1761.766847           13.044926   \n",
       "YOLO      0            17.000000   55.000000   921.000000            9.000000   \n",
       "          1            79.000000  123.000000  2376.000000           16.000000   \n",
       "          2            52.826491   94.293571  1761.766847           13.044926   \n",
       "SSD       0            82.000000  209.000000   921.000000            9.000000   \n",
       "          1           753.000000  520.000000  2376.000000           16.000000   \n",
       "          2           469.735089  388.710302  1761.766847           13.044926   \n",
       "\n",
       "                   FPS  Switch Ratio  \n",
       "PeopleNet 0   9.358000      0.007600  \n",
       "          1   9.472000      0.008838  \n",
       "          2   9.423875      0.008565  \n",
       "YOLO      0  13.184000      0.009772  \n",
       "          1  12.828000      0.008418  \n",
       "          2  12.978287      0.008716  \n",
       "SSD       0  13.068000      0.030402  \n",
       "          1  12.678000      0.023148  \n",
       "          2  12.842640      0.024749  "
      ],
      "text/html": "<div>\n<style scoped>\n    .dataframe tbody tr th:only-of-type {\n        vertical-align: middle;\n    }\n\n    .dataframe tbody tr th {\n        vertical-align: top;\n    }\n\n    .dataframe thead th {\n        text-align: right;\n    }\n</style>\n<table border=\"1\" class=\"dataframe\">\n  <thead>\n    <tr style=\"text-align: right;\">\n      <th></th>\n      <th></th>\n      <th>input</th>\n      <th>num_frames</th>\n      <th>mota</th>\n      <th>motp</th>\n      <th>num_switches</th>\n      <th>num_false_positives</th>\n      <th>num_misses</th>\n      <th>num_objects</th>\n      <th>num_unique_objects</th>\n      <th>FPS</th>\n      <th>Switch Ratio</th>\n    </tr>\n  </thead>\n  <tbody>\n    <tr>\n      <th rowspan=\"3\" valign=\"top\">PeopleNet</th>\n      <th>0</th>\n      <td>04-09-1</td>\n      <td>545.000000</td>\n      <td>0.837134</td>\n      <td>0.841188</td>\n      <td>7.000000</td>\n      <td>16.000000</td>\n      <td>127.000000</td>\n      <td>921.000000</td>\n      <td>9.000000</td>\n      <td>9.358000</td>\n      <td>0.007600</td>\n    </tr>\n    <tr>\n      <th>1</th>\n      <td>04-09-3</td>\n      <td>746.000000</td>\n      <td>0.845960</td>\n      <td>0.823072</td>\n      <td>21.000000</td>\n      <td>4.000000</td>\n      <td>341.000000</td>\n      <td>2376.000000</td>\n      <td>16.000000</td>\n      <td>9.472000</td>\n      <td>0.008838</td>\n    </tr>\n    <tr>\n      <th>2</th>\n      <td>avg (*)</td>\n      <td>661.147173</td>\n      <td>0.842234</td>\n      <td>0.830720</td>\n      <td>15.089853</td>\n      <td>9.065840</td>\n      <td>250.659179</td>\n      <td>1761.766847</td>\n      <td>13.044926</td>\n      <td>9.423875</td>\n      <td>0.008565</td>\n    </tr>\n    <tr>\n      <th rowspan=\"3\" valign=\"top\">YOLO</th>\n      <th>0</th>\n      <td>04-09-1</td>\n      <td>545.000000</td>\n      <td>0.912052</td>\n      <td>0.924237</td>\n      <td>9.000000</td>\n      <td>17.000000</td>\n      <td>55.000000</td>\n      <td>921.000000</td>\n      <td>9.000000</td>\n      <td>13.184000</td>\n      <td>0.009772</td>\n    </tr>\n    <tr>\n      <th>1</th>\n      <td>04-09-3</td>\n      <td>746.000000</td>\n      <td>0.906566</td>\n      <td>0.931936</td>\n      <td>20.000000</td>\n      <td>79.000000</td>\n      <td>123.000000</td>\n      <td>2376.000000</td>\n      <td>16.000000</td>\n      <td>12.828000</td>\n      <td>0.008418</td>\n    </tr>\n    <tr>\n      <th>2</th>\n      <td>avg (*)</td>\n      <td>661.147173</td>\n      <td>0.908882</td>\n      <td>0.928686</td>\n      <td>15.356313</td>\n      <td>52.826491</td>\n      <td>94.293571</td>\n      <td>1761.766847</td>\n      <td>13.044926</td>\n      <td>12.978287</td>\n      <td>0.008716</td>\n    </tr>\n    <tr>\n      <th rowspan=\"3\" valign=\"top\">SSD</th>\n      <th>0</th>\n      <td>04-09-1</td>\n      <td>545.000000</td>\n      <td>0.653637</td>\n      <td>0.780165</td>\n      <td>28.000000</td>\n      <td>82.000000</td>\n      <td>209.000000</td>\n      <td>921.000000</td>\n      <td>9.000000</td>\n      <td>13.068000</td>\n      <td>0.030402</td>\n    </tr>\n    <tr>\n      <th>1</th>\n      <td>04-09-3</td>\n      <td>746.000000</td>\n      <td>0.441077</td>\n      <td>0.688373</td>\n      <td>55.000000</td>\n      <td>753.000000</td>\n      <td>520.000000</td>\n      <td>2376.000000</td>\n      <td>16.000000</td>\n      <td>12.678000</td>\n      <td>0.023148</td>\n    </tr>\n    <tr>\n      <th>2</th>\n      <td>avg (*)</td>\n      <td>661.147173</td>\n      <td>0.530810</td>\n      <td>0.727123</td>\n      <td>43.601859</td>\n      <td>469.735089</td>\n      <td>388.710302</td>\n      <td>1761.766847</td>\n      <td>13.044926</td>\n      <td>12.842640</td>\n      <td>0.024749</td>\n    </tr>\n  </tbody>\n</table>\n</div>"
     },
     "metadata": {},
     "execution_count": 108
    }
   ],
   "source": [
    "pd.concat(results)"
   ]
  },
  {
   "cell_type": "code",
   "execution_count": 94,
   "metadata": {},
   "outputs": [
    {
     "output_type": "stream",
     "name": "stdout",
     "text": [
      "========== PeopleNet ==========\n"
     ]
    },
    {
     "output_type": "display_data",
     "data": {
      "text/plain": "     input  num_frames      mota      motp  num_switches  num_false_positives  \\\n0  04-09-1  545.000000  0.837134  0.841188      7.000000             16.00000   \n1  04-09-3  746.000000  0.845960  0.823072     21.000000              4.00000   \n2  avg (*)  661.147173  0.842234  0.830720     15.089853              9.06584   \n\n   num_misses  num_objects  num_unique_objects       FPS  Switch Ratio  \\\n0  127.000000   921.000000            9.000000  9.358000      0.007600   \n1  341.000000  2376.000000           16.000000  9.472000      0.008838   \n2  250.659179  1761.766847           13.044926  9.423875      0.008565   \n\n       model  \n0  PeopleNet  \n1  PeopleNet  \n2  PeopleNet  ",
      "text/html": "<div>\n<style scoped>\n    .dataframe tbody tr th:only-of-type {\n        vertical-align: middle;\n    }\n\n    .dataframe tbody tr th {\n        vertical-align: top;\n    }\n\n    .dataframe thead th {\n        text-align: right;\n    }\n</style>\n<table border=\"1\" class=\"dataframe\">\n  <thead>\n    <tr style=\"text-align: right;\">\n      <th></th>\n      <th>input</th>\n      <th>num_frames</th>\n      <th>mota</th>\n      <th>motp</th>\n      <th>num_switches</th>\n      <th>num_false_positives</th>\n      <th>num_misses</th>\n      <th>num_objects</th>\n      <th>num_unique_objects</th>\n      <th>FPS</th>\n      <th>Switch Ratio</th>\n      <th>model</th>\n    </tr>\n  </thead>\n  <tbody>\n    <tr>\n      <th>0</th>\n      <td>04-09-1</td>\n      <td>545.000000</td>\n      <td>0.837134</td>\n      <td>0.841188</td>\n      <td>7.000000</td>\n      <td>16.00000</td>\n      <td>127.000000</td>\n      <td>921.000000</td>\n      <td>9.000000</td>\n      <td>9.358000</td>\n      <td>0.007600</td>\n      <td>PeopleNet</td>\n    </tr>\n    <tr>\n      <th>1</th>\n      <td>04-09-3</td>\n      <td>746.000000</td>\n      <td>0.845960</td>\n      <td>0.823072</td>\n      <td>21.000000</td>\n      <td>4.00000</td>\n      <td>341.000000</td>\n      <td>2376.000000</td>\n      <td>16.000000</td>\n      <td>9.472000</td>\n      <td>0.008838</td>\n      <td>PeopleNet</td>\n    </tr>\n    <tr>\n      <th>2</th>\n      <td>avg (*)</td>\n      <td>661.147173</td>\n      <td>0.842234</td>\n      <td>0.830720</td>\n      <td>15.089853</td>\n      <td>9.06584</td>\n      <td>250.659179</td>\n      <td>1761.766847</td>\n      <td>13.044926</td>\n      <td>9.423875</td>\n      <td>0.008565</td>\n      <td>PeopleNet</td>\n    </tr>\n  </tbody>\n</table>\n</div>"
     },
     "metadata": {}
    },
    {
     "output_type": "stream",
     "name": "stdout",
     "text": [
      "\n========== YOLO ==========\n"
     ]
    },
    {
     "output_type": "display_data",
     "data": {
      "text/plain": "     input  num_frames      mota      motp  num_switches  num_false_positives  \\\n0  04-09-1  545.000000  0.912052  0.924237      9.000000            17.000000   \n1  04-09-3  746.000000  0.906566  0.931936     20.000000            79.000000   \n2  avg (*)  661.147173  0.908882  0.928686     15.356313            52.826491   \n\n   num_misses  num_objects  num_unique_objects        FPS  Switch Ratio model  \n0   55.000000   921.000000            9.000000  13.184000      0.009772  YOLO  \n1  123.000000  2376.000000           16.000000  12.828000      0.008418  YOLO  \n2   94.293571  1761.766847           13.044926  12.978287      0.008716  YOLO  ",
      "text/html": "<div>\n<style scoped>\n    .dataframe tbody tr th:only-of-type {\n        vertical-align: middle;\n    }\n\n    .dataframe tbody tr th {\n        vertical-align: top;\n    }\n\n    .dataframe thead th {\n        text-align: right;\n    }\n</style>\n<table border=\"1\" class=\"dataframe\">\n  <thead>\n    <tr style=\"text-align: right;\">\n      <th></th>\n      <th>input</th>\n      <th>num_frames</th>\n      <th>mota</th>\n      <th>motp</th>\n      <th>num_switches</th>\n      <th>num_false_positives</th>\n      <th>num_misses</th>\n      <th>num_objects</th>\n      <th>num_unique_objects</th>\n      <th>FPS</th>\n      <th>Switch Ratio</th>\n      <th>model</th>\n    </tr>\n  </thead>\n  <tbody>\n    <tr>\n      <th>0</th>\n      <td>04-09-1</td>\n      <td>545.000000</td>\n      <td>0.912052</td>\n      <td>0.924237</td>\n      <td>9.000000</td>\n      <td>17.000000</td>\n      <td>55.000000</td>\n      <td>921.000000</td>\n      <td>9.000000</td>\n      <td>13.184000</td>\n      <td>0.009772</td>\n      <td>YOLO</td>\n    </tr>\n    <tr>\n      <th>1</th>\n      <td>04-09-3</td>\n      <td>746.000000</td>\n      <td>0.906566</td>\n      <td>0.931936</td>\n      <td>20.000000</td>\n      <td>79.000000</td>\n      <td>123.000000</td>\n      <td>2376.000000</td>\n      <td>16.000000</td>\n      <td>12.828000</td>\n      <td>0.008418</td>\n      <td>YOLO</td>\n    </tr>\n    <tr>\n      <th>2</th>\n      <td>avg (*)</td>\n      <td>661.147173</td>\n      <td>0.908882</td>\n      <td>0.928686</td>\n      <td>15.356313</td>\n      <td>52.826491</td>\n      <td>94.293571</td>\n      <td>1761.766847</td>\n      <td>13.044926</td>\n      <td>12.978287</td>\n      <td>0.008716</td>\n      <td>YOLO</td>\n    </tr>\n  </tbody>\n</table>\n</div>"
     },
     "metadata": {}
    },
    {
     "output_type": "stream",
     "name": "stdout",
     "text": [
      "\n========== SSD ==========\n"
     ]
    },
    {
     "output_type": "display_data",
     "data": {
      "text/plain": "     input  num_frames      mota      motp  num_switches  num_false_positives  \\\n0  04-09-1  545.000000  0.653637  0.780165     28.000000            82.000000   \n1  04-09-3  746.000000  0.441077  0.688373     55.000000           753.000000   \n2  avg (*)  661.147173  0.530810  0.727123     43.601859           469.735089   \n\n   num_misses  num_objects  num_unique_objects       FPS  Switch Ratio model  \n0  209.000000   921.000000            9.000000  13.06800      0.030402   SSD  \n1  520.000000  2376.000000           16.000000  12.67800      0.023148   SSD  \n2  388.710302  1761.766847           13.044926  12.84264      0.024749   SSD  ",
      "text/html": "<div>\n<style scoped>\n    .dataframe tbody tr th:only-of-type {\n        vertical-align: middle;\n    }\n\n    .dataframe tbody tr th {\n        vertical-align: top;\n    }\n\n    .dataframe thead th {\n        text-align: right;\n    }\n</style>\n<table border=\"1\" class=\"dataframe\">\n  <thead>\n    <tr style=\"text-align: right;\">\n      <th></th>\n      <th>input</th>\n      <th>num_frames</th>\n      <th>mota</th>\n      <th>motp</th>\n      <th>num_switches</th>\n      <th>num_false_positives</th>\n      <th>num_misses</th>\n      <th>num_objects</th>\n      <th>num_unique_objects</th>\n      <th>FPS</th>\n      <th>Switch Ratio</th>\n      <th>model</th>\n    </tr>\n  </thead>\n  <tbody>\n    <tr>\n      <th>0</th>\n      <td>04-09-1</td>\n      <td>545.000000</td>\n      <td>0.653637</td>\n      <td>0.780165</td>\n      <td>28.000000</td>\n      <td>82.000000</td>\n      <td>209.000000</td>\n      <td>921.000000</td>\n      <td>9.000000</td>\n      <td>13.06800</td>\n      <td>0.030402</td>\n      <td>SSD</td>\n    </tr>\n    <tr>\n      <th>1</th>\n      <td>04-09-3</td>\n      <td>746.000000</td>\n      <td>0.441077</td>\n      <td>0.688373</td>\n      <td>55.000000</td>\n      <td>753.000000</td>\n      <td>520.000000</td>\n      <td>2376.000000</td>\n      <td>16.000000</td>\n      <td>12.67800</td>\n      <td>0.023148</td>\n      <td>SSD</td>\n    </tr>\n    <tr>\n      <th>2</th>\n      <td>avg (*)</td>\n      <td>661.147173</td>\n      <td>0.530810</td>\n      <td>0.727123</td>\n      <td>43.601859</td>\n      <td>469.735089</td>\n      <td>388.710302</td>\n      <td>1761.766847</td>\n      <td>13.044926</td>\n      <td>12.84264</td>\n      <td>0.024749</td>\n      <td>SSD</td>\n    </tr>\n  </tbody>\n</table>\n</div>"
     },
     "metadata": {}
    },
    {
     "output_type": "stream",
     "name": "stdout",
     "text": [
      "\n"
     ]
    }
   ],
   "source": [
    "for n, df in results.items():\n",
    "    print('='*10, n, '='*10)\n",
    "    display(df)\n",
    "    print()"
   ]
  },
  {
   "cell_type": "code",
   "execution_count": 89,
   "metadata": {},
   "outputs": [],
   "source": [
    "summary = []\n",
    "cols = ['mota', 'motp', 'Switch Ratio', 'FPS']\n",
    "for n, df in results.items():\n",
    "    summary.append(\n",
    "        [n, *df.loc[2, cols]]\n",
    "    ) \n",
    "\n",
    "df_summary = pd.DataFrame(summary, columns=['model', *cols])"
   ]
  },
  {
   "cell_type": "code",
   "execution_count": 90,
   "metadata": {},
   "outputs": [
    {
     "output_type": "execute_result",
     "data": {
      "text/plain": [
       "       model      mota      motp  Switch Ratio        FPS\n",
       "0  PeopleNet  0.842234  0.830720      0.008565   9.423875\n",
       "1       YOLO  0.908882  0.928686      0.008716  12.978287\n",
       "2        SSD  0.530810  0.727123      0.024749  12.842640"
      ],
      "text/html": "<div>\n<style scoped>\n    .dataframe tbody tr th:only-of-type {\n        vertical-align: middle;\n    }\n\n    .dataframe tbody tr th {\n        vertical-align: top;\n    }\n\n    .dataframe thead th {\n        text-align: right;\n    }\n</style>\n<table border=\"1\" class=\"dataframe\">\n  <thead>\n    <tr style=\"text-align: right;\">\n      <th></th>\n      <th>model</th>\n      <th>mota</th>\n      <th>motp</th>\n      <th>Switch Ratio</th>\n      <th>FPS</th>\n    </tr>\n  </thead>\n  <tbody>\n    <tr>\n      <th>0</th>\n      <td>PeopleNet</td>\n      <td>0.842234</td>\n      <td>0.830720</td>\n      <td>0.008565</td>\n      <td>9.423875</td>\n    </tr>\n    <tr>\n      <th>1</th>\n      <td>YOLO</td>\n      <td>0.908882</td>\n      <td>0.928686</td>\n      <td>0.008716</td>\n      <td>12.978287</td>\n    </tr>\n    <tr>\n      <th>2</th>\n      <td>SSD</td>\n      <td>0.530810</td>\n      <td>0.727123</td>\n      <td>0.024749</td>\n      <td>12.842640</td>\n    </tr>\n  </tbody>\n</table>\n</div>"
     },
     "metadata": {},
     "execution_count": 90
    }
   ],
   "source": [
    "df_summary"
   ]
  }
 ]
}